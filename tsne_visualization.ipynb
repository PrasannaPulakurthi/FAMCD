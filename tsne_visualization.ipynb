{
 "cells": [
  {
   "cell_type": "code",
   "execution_count": null,
   "metadata": {},
   "outputs": [
    {
     "name": "stdout",
     "output_type": "stream",
     "text": [
      "Using downloaded and verified file: ./data\\train_32x32.mat\n",
      "Using downloaded and verified file: ./data\\test_32x32.mat\n"
     ]
    },
    {
     "name": "stderr",
     "output_type": "stream",
     "text": [
      " 54%|███████████████████████████████████████████▌                                    | 443/814 [00:30<00:12, 30.36it/s]"
     ]
    }
   ],
   "source": [
    "# tsne_visualization.ipynb\n",
    "\n",
    "import torch\n",
    "import matplotlib.pyplot as plt\n",
    "from sklearn.manifold import TSNE\n",
    "import numpy as np\n",
    "from tqdm import tqdm\n",
    "\n",
    "def extract_features(model_G, model_F1, loader, device):\n",
    "    model_G.eval()\n",
    "    model_F1.eval()\n",
    "\n",
    "    features = []\n",
    "    labels = []\n",
    "    predictions = []\n",
    "\n",
    "    with torch.no_grad():\n",
    "        for x, y in tqdm(loader):\n",
    "            x = x.to(device)\n",
    "            feats = model_G(x)\n",
    "            logits = model_F1(feats)\n",
    "\n",
    "            features.append(feats.view(x.size(0), -1).cpu())\n",
    "            labels.append(y.cpu())\n",
    "            predictions.append(torch.argmax(logits, dim=1).cpu())\n",
    "\n",
    "    return torch.cat(features), torch.cat(labels), torch.cat(predictions)\n",
    "\n",
    "def plot_tsne(X, labels=None, title=\"\", palette=\"tab10\", label_names=None):\n",
    "    X_tsne = TSNE(n_components=2, random_state=42, perplexity=30).fit_transform(X)\n",
    "\n",
    "    plt.figure(figsize=(8, 6))\n",
    "    if labels is not None:\n",
    "        for lab in np.unique(labels):\n",
    "            idx = labels == lab\n",
    "            plt.scatter(X_tsne[idx, 0], X_tsne[idx, 1], label=label_names[lab] if label_names else str(lab), s=10)\n",
    "        plt.legend(markerscale=2)\n",
    "    else:\n",
    "        plt.scatter(X_tsne[:, 0], X_tsne[:, 1], s=10)\n",
    "    plt.title(title)\n",
    "    plt.axis(\"off\")\n",
    "    plt.tight_layout()\n",
    "    plt.show()\n",
    "\n",
    "# ----------- Load Models and Data ----------------\n",
    "\n",
    "from models import FeatureGenerator, Classifier\n",
    "from datasets import get_data_loaders\n",
    "\n",
    "device = torch.device(\"cuda\" if torch.cuda.is_available() else \"cpu\")\n",
    "model_G = FeatureGenerator().to(device)\n",
    "model_F1 = Classifier().to(device)\n",
    "\n",
    "src='svhn'\n",
    "tgt='mnist'\n",
    "domain = src + '_' + tgt\n",
    "\n",
    "# Load trained checkpoint\n",
    "ckpt = torch.load(\"./checkpoints/\"+domain+\"/checkpoint.pth\", map_location=device)\n",
    "model_G.load_state_dict(ckpt[\"model_G\"])\n",
    "model_F1.load_state_dict(ckpt[\"model_F1\"])\n",
    "\n",
    "# Load Data\n",
    "loaders = get_data_loaders(batch_size=32, image_size=32)\n",
    "_, loader_src = loaders[src]\n",
    "_, loader_tgt = loaders[tgt]\n",
    "\n",
    "# ----------- Extract Features -------------------\n",
    "\n",
    "feats_src, labels_src, preds_src = extract_features(model_G, model_F1, loader_src, device)\n",
    "feats_tgt, labels_tgt, preds_tgt = extract_features(model_G, model_F1, loader_tgt, device)\n",
    "\n",
    "# Concatenate for combined TSNE\n",
    "X = torch.cat([feats_src, feats_tgt]).numpy()\n",
    "domain_labels = np.array([0]*len(feats_src) + [1]*len(feats_tgt))  # 0=source, 1=target\n",
    "\n",
    "# ----------- Plot (a) Domain Distribution --------\n",
    "plot_tsne(X, domain_labels, title=\"(a) Source (MNIST) vs Target (USPS)\", label_names=[\"MNIST\", \"USPS\"])\n",
    "\n",
    "# ----------- Plot (b) Ground Truth Labels --------\n",
    "plot_tsne(feats_tgt.numpy(), labels_tgt.numpy(), title=\"(b) Target Labels (USPS GT)\")\n",
    "\n",
    "# ----------- Plot (c) Classification Accuracy -----\n",
    "correct = (labels_tgt == preds_tgt).numpy()\n",
    "plot_tsne(feats_tgt.numpy(), correct, title=\"(c) Target Prediction Accuracy\", label_names=[\"Incorrect\", \"Correct\"])\n"
   ]
  },
  {
   "cell_type": "code",
   "execution_count": null,
   "metadata": {},
   "outputs": [],
   "source": []
  },
  {
   "cell_type": "code",
   "execution_count": null,
   "metadata": {},
   "outputs": [],
   "source": []
  }
 ],
 "metadata": {
  "kernelspec": {
   "display_name": "Python 3",
   "language": "python",
   "name": "python3"
  },
  "language_info": {
   "codemirror_mode": {
    "name": "ipython",
    "version": 3
   },
   "file_extension": ".py",
   "mimetype": "text/x-python",
   "name": "python",
   "nbconvert_exporter": "python",
   "pygments_lexer": "ipython3",
   "version": "3.8.5"
  }
 },
 "nbformat": 4,
 "nbformat_minor": 4
}
